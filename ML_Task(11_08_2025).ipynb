{
  "nbformat": 4,
  "nbformat_minor": 0,
  "metadata": {
    "colab": {
      "provenance": []
    },
    "kernelspec": {
      "name": "python3",
      "display_name": "Python 3"
    },
    "language_info": {
      "name": "python"
    }
  },
  "cells": [
    {
      "cell_type": "code",
      "execution_count": null,
      "metadata": {
        "colab": {
          "base_uri": "https://localhost:8080/"
        },
        "id": "JNMQptyHINlt",
        "outputId": "fc1fe157-7ec3-4d83-f550-3d3a419e0b81"
      },
      "outputs": [
        {
          "output_type": "stream",
          "name": "stdout",
          "text": [
            "    kroger_id has_member_card\n",
            "0           1               Y\n",
            "1           2               Y\n",
            "2           3             NaN\n",
            "3           4               Y\n",
            "4           5             NaN\n",
            "..        ...             ...\n",
            "95         96               Y\n",
            "96         97             NaN\n",
            "97         98               Y\n",
            "98         99             NaN\n",
            "99        100             NaN\n",
            "\n",
            "[100 rows x 2 columns]\n"
          ]
        }
      ],
      "source": [
        "import numpy as np\n",
        "import pandas as pd\n",
        "import matplotlib.pyplot as plt\n",
        "data=pd.read_csv('/content/kroger_members.csv')\n",
        "print(data)"
      ]
    },
    {
      "cell_type": "markdown",
      "source": [
        "Part 1 – Basic Data Understanding (Pandas) :"
      ],
      "metadata": {
        "id": "2ZBuK-IPOIOJ"
      }
    },
    {
      "cell_type": "code",
      "source": [
        "print(data.head(10)) #print first 10 rows\n"
      ],
      "metadata": {
        "colab": {
          "base_uri": "https://localhost:8080/"
        },
        "id": "iILs-aJgJlRS",
        "outputId": "1d82dc39-65ec-4f0f-8aab-488bf2bcd3ed"
      },
      "execution_count": null,
      "outputs": [
        {
          "output_type": "stream",
          "name": "stdout",
          "text": [
            "   kroger_id has_member_card\n",
            "0          1               Y\n",
            "1          2               Y\n",
            "2          3             NaN\n",
            "3          4               Y\n",
            "4          5             NaN\n",
            "5          6               Y\n",
            "6          7             NaN\n",
            "7          8               Y\n",
            "8          9               Y\n",
            "9         10               Y\n"
          ]
        }
      ]
    },
    {
      "cell_type": "code",
      "source": [
        "print(\"Shape:\",data.shape) #print of the data set"
      ],
      "metadata": {
        "colab": {
          "base_uri": "https://localhost:8080/"
        },
        "id": "nZYOpQpaJlgE",
        "outputId": "467306b5-02ab-48e7-e1bb-1b574f3580a9"
      },
      "execution_count": null,
      "outputs": [
        {
          "output_type": "stream",
          "name": "stdout",
          "text": [
            "Shape: (100, 2)\n"
          ]
        }
      ]
    },
    {
      "cell_type": "code",
      "source": [
        "print(\"Column Name:\",data.columns)  #print columns names"
      ],
      "metadata": {
        "colab": {
          "base_uri": "https://localhost:8080/"
        },
        "id": "ThYZGB_LJlp_",
        "outputId": "bbe8855d-31a4-49d4-e08c-bc22b6c5f514"
      },
      "execution_count": null,
      "outputs": [
        {
          "output_type": "stream",
          "name": "stdout",
          "text": [
            "Column Name: Index(['kroger_id', 'has_member_card'], dtype='object')\n"
          ]
        }
      ]
    },
    {
      "cell_type": "code",
      "source": [
        "print(data.dtypes)  #print the data type of each columns"
      ],
      "metadata": {
        "colab": {
          "base_uri": "https://localhost:8080/"
        },
        "id": "3-nBrijiJly8",
        "outputId": "c091c1ce-d8c5-47a4-e50d-207f2c4d7779"
      },
      "execution_count": null,
      "outputs": [
        {
          "output_type": "stream",
          "name": "stdout",
          "text": [
            "kroger_id           int64\n",
            "has_member_card    object\n",
            "dtype: object\n"
          ]
        }
      ]
    },
    {
      "cell_type": "code",
      "source": [
        "print(data.isnull().sum())  #count the missing values"
      ],
      "metadata": {
        "colab": {
          "base_uri": "https://localhost:8080/"
        },
        "id": "C4W_rc-cJl69",
        "outputId": "a96d2edf-f1f8-4af6-dc2e-155dc81ed448"
      },
      "execution_count": null,
      "outputs": [
        {
          "output_type": "stream",
          "name": "stdout",
          "text": [
            "kroger_id           0\n",
            "has_member_card    37\n",
            "dtype: int64\n"
          ]
        }
      ]
    },
    {
      "cell_type": "code",
      "source": [
        "print(data.duplicated().sum())  #count the duplicates"
      ],
      "metadata": {
        "colab": {
          "base_uri": "https://localhost:8080/"
        },
        "id": "brAvmtO0JmDB",
        "outputId": "364c43a9-99e6-4458-bc65-7ef8665e24b2"
      },
      "execution_count": null,
      "outputs": [
        {
          "output_type": "stream",
          "name": "stdout",
          "text": [
            "0\n"
          ]
        }
      ]
    },
    {
      "cell_type": "code",
      "source": [
        "membership_count=data['has_member_card'].value_counts()  #count the customers with and without membership cards\n",
        "print(membership_count)"
      ],
      "metadata": {
        "colab": {
          "base_uri": "https://localhost:8080/"
        },
        "id": "h6ubfpMIJmLJ",
        "outputId": "edf484b8-9fbe-4300-8676-5ad8cd7d6896"
      },
      "execution_count": null,
      "outputs": [
        {
          "output_type": "stream",
          "name": "stdout",
          "text": [
            "has_member_card\n",
            "Y    63\n",
            "N    37\n",
            "Name: count, dtype: int64\n"
          ]
        }
      ]
    },
    {
      "cell_type": "markdown",
      "source": [
        "Part 2 – Data Cleaning:"
      ],
      "metadata": {
        "id": "rt5wPlbPUfTT"
      }
    },
    {
      "cell_type": "code",
      "source": [
        "data['has_mamber_card']=data['has_member_card'].fillna('N')  #Fill missing values become N\n",
        "print(data)"
      ],
      "metadata": {
        "colab": {
          "base_uri": "https://localhost:8080/"
        },
        "id": "2A6G6opvJmSq",
        "outputId": "be13f39e-333f-4575-fd75-245674b64345"
      },
      "execution_count": null,
      "outputs": [
        {
          "output_type": "stream",
          "name": "stdout",
          "text": [
            "    kroger_id has_member_card has_mamber_card\n",
            "0           1               Y               Y\n",
            "1           2               Y               Y\n",
            "2           3             NaN               N\n",
            "3           4               Y               Y\n",
            "4           5             NaN               N\n",
            "..        ...             ...             ...\n",
            "95         96               Y               Y\n",
            "96         97             NaN               N\n",
            "97         98               Y               Y\n",
            "98         99             NaN               N\n",
            "99        100             NaN               N\n",
            "\n",
            "[100 rows x 3 columns]\n"
          ]
        }
      ]
    },
    {
      "cell_type": "code",
      "source": [
        "data['kroger_id']=data['kroger_id'].astype(int)  #cheak all the kroger_id's are integer"
      ],
      "metadata": {
        "id": "0Ys7tt5lJmam"
      },
      "execution_count": null,
      "outputs": []
    },
    {
      "cell_type": "code",
      "source": [
        "if(data['kroger_id'].is_unique):  #cheak all kroger_id's are unique or not\n",
        "  print(\"All kroger_id's are unique\")\n",
        "else:\n",
        "  print(\"Not\")"
      ],
      "metadata": {
        "colab": {
          "base_uri": "https://localhost:8080/"
        },
        "id": "sbkkGlrbJmdw",
        "outputId": "80d4c44d-5eef-4539-9693-02ea79909652"
      },
      "execution_count": null,
      "outputs": [
        {
          "output_type": "stream",
          "name": "stdout",
          "text": [
            "All kroger_id's are unique\n"
          ]
        }
      ]
    },
    {
      "cell_type": "code",
      "source": [
        "invalid=data[data['kroger_id']<=0]  # cheak any negative or invalid kroger_id\n",
        "if not invalid.empty:\n",
        "  print(\"Invalid kroger_id\")\n",
        "else:\n",
        "  print(\"Valid kroger_id\")"
      ],
      "metadata": {
        "colab": {
          "base_uri": "https://localhost:8080/"
        },
        "id": "CgFEqNBdJmgu",
        "outputId": "0e847dd3-40ae-47be-9dfb-75723899393e"
      },
      "execution_count": null,
      "outputs": [
        {
          "output_type": "stream",
          "name": "stdout",
          "text": [
            "Valid kroger_id\n"
          ]
        }
      ]
    },
    {
      "cell_type": "code",
      "source": [
        "data=data.reset_index(drop=True)  #reset dataset index after cleaning"
      ],
      "metadata": {
        "id": "-QGkt6URJmi5"
      },
      "execution_count": null,
      "outputs": []
    },
    {
      "cell_type": "markdown",
      "source": [],
      "metadata": {
        "id": "YH8_tpCpUdU9"
      }
    },
    {
      "cell_type": "markdown",
      "source": [
        "Part 3 – Exploratory Data Analysis (EDA):"
      ],
      "metadata": {
        "id": "17GOIYSgUlFy"
      }
    },
    {
      "cell_type": "code",
      "source": [
        "total_customers=len(data)  #count the number of customers\n",
        "print(total_customers)"
      ],
      "metadata": {
        "colab": {
          "base_uri": "https://localhost:8080/"
        },
        "id": "yXdArj7YJmmS",
        "outputId": "eb15d3c1-bbf2-4971-d32c-ab2e1a0b5bff"
      },
      "execution_count": null,
      "outputs": [
        {
          "output_type": "stream",
          "name": "stdout",
          "text": [
            "100\n"
          ]
        }
      ]
    },
    {
      "cell_type": "code",
      "source": [
        "member_count=data['has_member_card'].value_counts()  #count the member count\n",
        "print(member_count)\n",
        "non_member_count=(data['has_member_card']=='N').sum()\n",
        "print(\"non-member_count:\",non_member_count)"
      ],
      "metadata": {
        "colab": {
          "base_uri": "https://localhost:8080/"
        },
        "id": "BLWdvGn5Jmwm",
        "outputId": "a61b16d3-037b-4ae7-e4c9-baadaac1a385"
      },
      "execution_count": null,
      "outputs": [
        {
          "output_type": "stream",
          "name": "stdout",
          "text": [
            "has_member_card\n",
            "Y    63\n",
            "N    37\n",
            "Name: count, dtype: int64\n",
            "non-member_count: 37\n"
          ]
        }
      ]
    },
    {
      "cell_type": "code",
      "source": [
        "percent_member=(member_count['Y']/total_customers)*100 #Find the percentage of customers who have a membership card\n",
        "print(percent_member)"
      ],
      "metadata": {
        "colab": {
          "base_uri": "https://localhost:8080/"
        },
        "id": "sjcAQNJ_Wco0",
        "outputId": "980ef839-fbb3-4d41-bfbb-9616642278ed"
      },
      "execution_count": null,
      "outputs": [
        {
          "output_type": "stream",
          "name": "stdout",
          "text": [
            "63.0\n"
          ]
        }
      ]
    },
    {
      "cell_type": "code",
      "source": [
        "#pie chart of members vs non-members.\n",
        "plt.figure(figsize=(4,4))\n",
        "plt.pie(member_count,labels=member_count.index,autopct='%1.1f%%',colors=['blue','yellow'])\n",
        "plt.title(\"Members vs non-members\")\n",
        "plt.show()"
      ],
      "metadata": {
        "colab": {
          "base_uri": "https://localhost:8080/",
          "height": 367
        },
        "id": "s4sXAiS4Wh5t",
        "outputId": "c794c651-3a32-445b-be82-af67962507ef"
      },
      "execution_count": null,
      "outputs": [
        {
          "output_type": "display_data",
          "data": {
            "text/plain": [
              "<Figure size 400x400 with 1 Axes>"
            ],
            "image/png": "[encoded data removed]"
          },
          "metadata": {}
        }
      ]
    },
    {
      "cell_type": "code",
      "source": [
        "#bar chart of members vs non-members.\n",
        "plt.figure(figsize=(4,4))\n",
        "plt.bar(member_count.index,member_count.values,color=['blue','yellow'])\n",
        "plt.xlabel(\"Membership status\")\n",
        "plt.ylabel(\"Number of customers\")\n",
        "plt.title(\"Members vs non-members\")\n",
        "plt.show()"
      ],
      "metadata": {
        "colab": {
          "base_uri": "https://localhost:8080/",
          "height": 410
        },
        "id": "3LvTpO-zWhud",
        "outputId": "c2393d2f-c543-439d-87d8-cc1a52e8e292"
      },
      "execution_count": null,
      "outputs": [
        {
          "output_type": "display_data",
          "data": {
            "text/plain": [
              "<Figure size 400x400 with 1 Axes>"
            ],
            "image/png": "[encoded data removed]"
          },
          "metadata": {}
        }
      ]
    },
    {
      "cell_type": "markdown",
      "source": [
        "Part 4 – Statistics:"
      ],
      "metadata": {
        "id": "_DawwCNDc6Hw"
      }
    },
    {
      "cell_type": "code",
      "source": [
        "data['member_numeric'] = data['has_member_card'].map({'Y': 1, 'N': 0})\n",
        "mean=data['member_numeric'].mean()  #calculate mean of the membership card\n",
        "print(\"Mean:\",mean)\n",
        "median=data['member_numeric'].median()  # calculate median of the membership card\n",
        "print(\"Median:\",median)\n",
        "mode=data['member_numeric'].mode()[0]  # calculate mode of the membership card\n",
        "print(\"Mode:\",mode)"
      ],
      "metadata": {
        "colab": {
          "base_uri": "https://localhost:8080/"
        },
        "id": "YxqByInQWhju",
        "outputId": "1c6c4e28-4ddc-46a5-d8e6-b3f4c318d038"
      },
      "execution_count": null,
      "outputs": [
        {
          "output_type": "stream",
          "name": "stdout",
          "text": [
            "Mean: 0.63\n",
            "Median: 1.0\n",
            "Mode: 1\n"
          ]
        }
      ]
    },
    {
      "cell_type": "code",
      "source": [
        "prob_member=mean   #Probability that a random customer has a membership card.\n",
        "print(\"probability of a membership card:\",prob_member)\n",
        "prob_non_member=1-mean   #Probability that a random customer does not have a membership card.\n",
        "print(\"Probability of a not membership card:\",prob_non_member)"
      ],
      "metadata": {
        "colab": {
          "base_uri": "https://localhost:8080/"
        },
        "id": "baCzGh94WhgU",
        "outputId": "73c3da0f-8b97-42b3-f0f2-2abb24c41eeb"
      },
      "execution_count": null,
      "outputs": [
        {
          "output_type": "stream",
          "name": "stdout",
          "text": [
            "probability of a membership card: 0.63\n",
            "Probability of a not membership card: 0.37\n"
          ]
        }
      ]
    },
    {
      "cell_type": "markdown",
      "source": [
        "Part 5 – Linear Algebra & NumPy :"
      ],
      "metadata": {
        "id": "Sja02Zu1iUtf"
      }
    },
    {
      "cell_type": "code",
      "source": [
        "membership_binary=np.array(data['has_member_card'].map({'Y':1,'N':0}))  #Convert membership status into a binary NumPy array (1 for 'Y', 0 for 'N')\n",
        "np.random.seed(42)\n",
        "spend_score=np.random.randint(0,101,size=len(membership_binary))  #Create a random “spend score” array of the same size\n",
        "print(spend_score)"
      ],
      "metadata": {
        "colab": {
          "base_uri": "https://localhost:8080/"
        },
        "id": "WmmACxrokJJS",
        "outputId": "a2821ddc-778e-456f-ffa4-a159909d23ac"
      },
      "execution_count": null,
      "outputs": [
        {
          "output_type": "stream",
          "name": "stdout",
          "text": [
            "[ 51  92  14  71  60  20  82  86  74  74  87  99  23   2  21  52   1  87\n",
            "  29  37   1  63  59  20  32  75  57  21  88  48  90  58  41  91  59  79\n",
            "  14  61  61  46  61  50  54  63   2 100  50   6  20  72  38  17   3  88\n",
            "  59  13   8  89  52   1  83  91  59  70  43   7  46  34  77  80  35  49\n",
            "   3   1   5  53   3  53  92  62  17  89  43  33  73  61  99  13  94  47\n",
            "  14  71  77  86  61  39  84  79  81  52]\n"
          ]
        }
      ]
    },
    {
      "cell_type": "code",
      "source": [
        "vector_sum=membership_binary+spend_score  #fine the vector addition of membership_binary and spend_score\n",
        "print(vector_sum)"
      ],
      "metadata": {
        "colab": {
          "base_uri": "https://localhost:8080/"
        },
        "id": "Ca-VgvykkI7i",
        "outputId": "5cece8d6-95ef-4108-9001-064f06d837b4"
      },
      "execution_count": null,
      "outputs": [
        {
          "output_type": "stream",
          "name": "stdout",
          "text": [
            "[ 52  93  14  72  60  21  82  87  75  75  87  99  24   2  21  53   1  88\n",
            "  30  37   2  63  60  21  32  76  57  22  88  49  90  59  42  92  60  80\n",
            "  14  61  61  47  62  51  54  64   2 101  50   7  21  73  39  17   4  89\n",
            "  60  14   8  89  53   2  84  92  60  71  44   8  47  35  78  80  35  49\n",
            "   4   2   5  53   3  54  93  63  17  90  44  34  73  61 100  14  95  47\n",
            "  14  72  78  87  62  40  84  80  81  52]\n"
          ]
        }
      ]
    },
    {
      "cell_type": "code",
      "source": [
        "print(np.dot(membership_binary,spend_score))  #print the dot product of membership_binary and spend_score"
      ],
      "metadata": {
        "colab": {
          "base_uri": "https://localhost:8080/"
        },
        "id": "oNm09oaRkIwi",
        "outputId": "a87c11f9-81ee-4b6c-8bac-9d7004757c72"
      },
      "execution_count": null,
      "outputs": [
        {
          "output_type": "stream",
          "name": "stdout",
          "text": [
            "3388\n"
          ]
        }
      ]
    },
    {
      "cell_type": "code",
      "source": [
        "#print the matrix multiplications of features and weights\n",
        "features=np.column_stack((membership_binary,spend_score))\n",
        "weights=np.array([0.5,0.5])\n",
        "matrix_multiplication=np.dot(features,weights)\n",
        "print(matrix_multiplication)"
      ],
      "metadata": {
        "colab": {
          "base_uri": "https://localhost:8080/"
        },
        "id": "l_odZGoWWheZ",
        "outputId": "248beade-ab9a-4d18-9fbe-9d46a17772c6"
      },
      "execution_count": null,
      "outputs": [
        {
          "output_type": "stream",
          "name": "stdout",
          "text": [
            "[26.  46.5  7.  36.  30.  10.5 41.  43.5 37.5 37.5 43.5 49.5 12.   1.\n",
            " 10.5 26.5  0.5 44.  15.  18.5  1.  31.5 30.  10.5 16.  38.  28.5 11.\n",
            " 44.  24.5 45.  29.5 21.  46.  30.  40.   7.  30.5 30.5 23.5 31.  25.5\n",
            " 27.  32.   1.  50.5 25.   3.5 10.5 36.5 19.5  8.5  2.  44.5 30.   7.\n",
            "  4.  44.5 26.5  1.  42.  46.  30.  35.5 22.   4.  23.5 17.5 39.  40.\n",
            " 17.5 24.5  2.   1.   2.5 26.5  1.5 27.  46.5 31.5  8.5 45.  22.  17.\n",
            " 36.5 30.5 50.   7.  47.5 23.5  7.  36.  39.  43.5 31.  20.  42.  40.\n",
            " 40.5 26. ]\n"
          ]
        }
      ]
    },
    {
      "cell_type": "markdown",
      "source": [
        "Part 6 – Feature Engineering :"
      ],
      "metadata": {
        "id": "TUmfT63Jm4R9"
      }
    },
    {
      "cell_type": "code",
      "source": [
        "data['Is_member']=data['has_member_card'].map({'Y':1,'N':0})  #create Is_member column (1 if 'Y', else 0)\n",
        "print(data)"
      ],
      "metadata": {
        "colab": {
          "base_uri": "https://localhost:8080/"
        },
        "id": "XPeuZNjLWhb-",
        "outputId": "ab5ef143-366e-4037-d58a-9b18a2049527"
      },
      "execution_count": null,
      "outputs": [
        {
          "output_type": "stream",
          "name": "stdout",
          "text": [
            "    kroger_id has_member_card has_mamber_card  member_numeric  Is_member  \\\n",
            "0         1.0               Y               Y               1          1   \n",
            "1         2.0               Y               Y               1          1   \n",
            "2         3.0               N               N               0          0   \n",
            "3         4.0               Y               Y               1          1   \n",
            "4         5.0               N               N               0          0   \n",
            "..        ...             ...             ...             ...        ...   \n",
            "95       96.0               Y               Y               1          1   \n",
            "96       97.0               N               N               0          0   \n",
            "97       98.0               Y               Y               1          1   \n",
            "98       99.0               N               N               0          0   \n",
            "99      100.0               N               N               0          0   \n",
            "\n",
            "    monthly_spend  Discount_eligible spend_Quartile  \n",
            "0          218.54                  1             Q2  \n",
            "1          477.82                  1             Q4  \n",
            "2          379.40                  0             Q4  \n",
            "3          319.40                  1             Q3  \n",
            "4          120.21                  0             Q1  \n",
            "..            ...                ...            ...  \n",
            "95         272.21                  1             Q3  \n",
            "96         285.23                  0             Q3  \n",
            "97         242.39                  1             Q2  \n",
            "98          61.44                  0             Q1  \n",
            "99          98.55                  0             Q1  \n",
            "\n",
            "[100 rows x 8 columns]\n"
          ]
        }
      ]
    },
    {
      "cell_type": "code",
      "source": [
        "np.random.seed(42)\n",
        "data['monthly_spend']=np.random.uniform(50,500,size=len(data)).round(2)  #create monthly_spend column random values become 50 and 500"
      ],
      "metadata": {
        "id": "uvZpkjQQWhZ1"
      },
      "execution_count": null,
      "outputs": []
    },
    {
      "cell_type": "code",
      "source": [
        "data['Discount_eligible']=np.where((data['Is_member']==1)&(data['monthly_spend']>200),1,0)  #Create a Discount_Eligible column"
      ],
      "metadata": {
        "id": "87kRTuaCWhWn"
      },
      "execution_count": null,
      "outputs": []
    },
    {
      "cell_type": "code",
      "source": [
        "data['spend_Quartile']=pd.qcut(data['monthly_spend'],q=4,labels=['Q1','Q2','Q3','Q4']) #Create membership quartiles based on Monthly_Spend.\n",
        "print(data.head(10))"
      ],
      "metadata": {
        "colab": {
          "base_uri": "https://localhost:8080/"
        },
        "id": "OqDyj2c9WhOe",
        "outputId": "d62d9244-8185-403c-f2a2-dd65181d60e4"
      },
      "execution_count": null,
      "outputs": [
        {
          "output_type": "stream",
          "name": "stdout",
          "text": [
            "   level_0  index  kroger_id has_member_card has_mamber_card  member_numeric  \\\n",
            "0        0      0        1.0               Y               Y               1   \n",
            "1        1      1        2.0               Y               Y               1   \n",
            "2        2      2        3.0               N               N               0   \n",
            "3        3      3        4.0               Y               Y               1   \n",
            "4        4      4        5.0               N               N               0   \n",
            "5        5      5        6.0               Y               Y               1   \n",
            "6        6      6        7.0               N               N               0   \n",
            "7        7      7        8.0               Y               Y               1   \n",
            "8        8      8        9.0               Y               Y               1   \n",
            "9        9      9       10.0               Y               Y               1   \n",
            "\n",
            "   Is_member  monthly_spend  Discount_eligible spend_Quartile  \n",
            "0          1         314.04                  2             Q3  \n",
            "1          1         484.36                  2             Q4  \n",
            "2          0         323.17                  3             Q3  \n",
            "3          1         174.20                  3             Q2  \n",
            "4          0         183.32                  3             Q2  \n",
            "5          1         124.37                  3             Q1  \n",
            "6          0          57.04                  3             Q1  \n",
            "7          1         240.53                  2             Q2  \n",
            "8          1         227.70                  2             Q2  \n",
            "9          1         182.07                  3             Q2  \n"
          ]
        }
      ]
    },
    {
      "cell_type": "markdown",
      "source": [
        "Part 7 – SQL Simulation in Pandas :"
      ],
      "metadata": {
        "id": "JMs96ieJpYya"
      }
    },
    {
      "cell_type": "code",
      "source": [
        "high_spending_members=data[(data['Is_member']==1)& (data['monthly_spend']>300)]  #Select all customers who are members and spend more than $300 per month.\n",
        "print(high_spending_members)"
      ],
      "metadata": {
        "colab": {
          "base_uri": "https://localhost:8080/"
        },
        "collapsed": true,
        "id": "AObJuEhLWcla",
        "outputId": "3718018c-4cc5-4086-def2-5564b69bb9c0"
      },
      "execution_count": null,
      "outputs": [
        {
          "output_type": "stream",
          "name": "stdout",
          "text": [
            "    level_0  index  kroger_id has_member_card has_mamber_card  member_numeric  \\\n",
            "0         0      0        1.0               Y               Y               1   \n",
            "1         1      1        2.0               Y               Y               1   \n",
            "12       12     12       13.0               Y               Y               1   \n",
            "15       15     15       16.0               Y               Y               1   \n",
            "17       17     17       18.0               Y               Y               1   \n",
            "18       18     18       19.0               Y               Y               1   \n",
            "22       22     22       23.0               Y               Y               1   \n",
            "23       23     23       24.0               Y               Y               1   \n",
            "29       29     29       30.0               Y               Y               1   \n",
            "34       34     34       35.0               Y               Y               1   \n",
            "40       40     40       41.0               Y               Y               1   \n",
            "41       41     41       42.0               Y               Y               1   \n",
            "43       43     43       44.0               Y               Y               1   \n",
            "47       47     47       48.0               Y               Y               1   \n",
            "48       48     48       49.0               Y               Y               1   \n",
            "49       49     49       50.0               Y               Y               1   \n",
            "50       50     50       51.0               Y               Y               1   \n",
            "60       60     60       61.0               Y               Y               1   \n",
            "62       62     62       63.0               Y               Y               1   \n",
            "79       79     79       80.0               Y               Y               1   \n",
            "82       82     82       83.0               Y               Y               1   \n",
            "88       88     88       89.0               Y               Y               1   \n",
            "93       93     93       94.0               Y               Y               1   \n",
            "97       97     97       98.0               Y               Y               1   \n",
            "\n",
            "    Is_member  monthly_spend  Discount_eligible spend_Quartile  \n",
            "0           1         314.04                  1             Q3  \n",
            "1           1         484.36                  1             Q4  \n",
            "12          1         370.10                  1             Q4  \n",
            "15          1         466.84                  1             Q4  \n",
            "17          1         461.73                  1             Q4  \n",
            "18          1         432.52                  1             Q4  \n",
            "22          1         350.98                  1             Q3  \n",
            "23          1         349.67                  1             Q3  \n",
            "29          1         432.01                  1             Q4  \n",
            "34          1         369.80                  1             Q4  \n",
            "40          1         303.47                  1             Q3  \n",
            "41          1         362.98                  1             Q4  \n",
            "43          1         321.99                  1             Q3  \n",
            "47          1         319.49                  1             Q3  \n",
            "48          1         362.65                  1             Q4  \n",
            "49          1         446.21                  1             Q4  \n",
            "50          1         330.96                  1             Q3  \n",
            "60          1         458.07                  1             Q4  \n",
            "62          1         341.46                  1             Q3  \n",
            "79          1         363.34                  1             Q4  \n",
            "82          1         498.98                  1             Q4  \n",
            "88          1         335.46                  1             Q3  \n",
            "93          1         316.71                  1             Q3  \n",
            "97          1         411.41                  1             Q4  \n"
          ]
        }
      ]
    },
    {
      "cell_type": "code",
      "source": [
        "top_10_members=data[data['Is_member']==1].sort_values(by='monthly_spend',ascending=False).head(10) #top 10 highest spenders among members.\n",
        "print(top_10_members)"
      ],
      "metadata": {
        "colab": {
          "base_uri": "https://localhost:8080/"
        },
        "id": "y9pqHxPMWcjb",
        "outputId": "bb78238f-b429-4e82-b82a-0996b7b29868"
      },
      "execution_count": null,
      "outputs": [
        {
          "output_type": "stream",
          "name": "stdout",
          "text": [
            "    level_0  index  kroger_id has_member_card has_mamber_card  member_numeric  \\\n",
            "82       82     82       83.0               Y               Y               1   \n",
            "1         1      1        2.0               Y               Y               1   \n",
            "15       15     15       16.0               Y               Y               1   \n",
            "17       17     17       18.0               Y               Y               1   \n",
            "60       60     60       61.0               Y               Y               1   \n",
            "49       49     49       50.0               Y               Y               1   \n",
            "18       18     18       19.0               Y               Y               1   \n",
            "29       29     29       30.0               Y               Y               1   \n",
            "97       97     97       98.0               Y               Y               1   \n",
            "12       12     12       13.0               Y               Y               1   \n",
            "\n",
            "    Is_member  monthly_spend  Discount_eligible spend_Quartile  \n",
            "82          1         498.98                  1             Q4  \n",
            "1           1         484.36                  1             Q4  \n",
            "15          1         466.84                  1             Q4  \n",
            "17          1         461.73                  1             Q4  \n",
            "60          1         458.07                  1             Q4  \n",
            "49          1         446.21                  1             Q4  \n",
            "18          1         432.52                  1             Q4  \n",
            "29          1         432.01                  1             Q4  \n",
            "97          1         411.41                  1             Q4  \n",
            "12          1         370.10                  1             Q4  \n"
          ]
        }
      ]
    },
    {
      "cell_type": "code",
      "source": [
        "sorted_customers=data.sort_values(by=['monthly_spend','kroger_id'],ascending=[False,True])  #Sort customers by Monthly_Spend descending and then by kroger_id ascending.\n",
        "print(sorted_customers)"
      ],
      "metadata": {
        "colab": {
          "base_uri": "https://localhost:8080/"
        },
        "id": "YybXPKNuWcg6",
        "outputId": "42fa1067-0408-48fa-f29f-36779ed99f99"
      },
      "execution_count": null,
      "outputs": [
        {
          "output_type": "stream",
          "name": "stdout",
          "text": [
            "    kroger_id has_member_card has_mamber_card  member_numeric  Is_member  \\\n",
            "69       70.0               N               N               0          0   \n",
            "11       12.0               N               N               0          0   \n",
            "50       51.0               Y               Y               1          1   \n",
            "34       35.0               Y               Y               1          1   \n",
            "1         2.0               Y               Y               1          1   \n",
            "..        ...             ...             ...             ...        ...   \n",
            "58       59.0               Y               Y               1          1   \n",
            "42       43.0               N               N               0          0   \n",
            "98       99.0               N               N               0          0   \n",
            "10       11.0               N               N               0          0   \n",
            "72       73.0               Y               Y               1          1   \n",
            "\n",
            "    monthly_spend  Discount_eligible spend_Quartile  \n",
            "69         494.10                  0             Q4  \n",
            "11         486.46                  0             Q4  \n",
            "50         486.31                  1             Q4  \n",
            "34         484.53                  1             Q4  \n",
            "1          477.82                  1             Q4  \n",
            "..            ...                ...            ...  \n",
            "58          70.35                  0             Q1  \n",
            "42          65.47                  0             Q1  \n",
            "98          61.44                  0             Q1  \n",
            "10          59.26                  0             Q1  \n",
            "72          52.48                  0             Q1  \n",
            "\n",
            "[100 rows x 8 columns]\n"
          ]
        }
      ]
    },
    {
      "cell_type": "code",
      "source": [
        "discount_count=data['Discount_eligible'].value_counts() #count discount count\n",
        "print(discount_count)"
      ],
      "metadata": {
        "colab": {
          "base_uri": "https://localhost:8080/"
        },
        "id": "p_BrbKJnWcei",
        "outputId": "4ea9bd1a-2222-4148-8103-ad3239d8d9dd"
      },
      "execution_count": null,
      "outputs": [
        {
          "output_type": "stream",
          "name": "stdout",
          "text": [
            "Discount_eligible\n",
            "0    62\n",
            "1    38\n",
            "Name: count, dtype: int64\n"
          ]
        }
      ]
    },
    {
      "cell_type": "markdown",
      "source": [
        "Part 8 – Insights:"
      ],
      "metadata": {
        "id": "xlev7pwlsf7G"
      }
    },
    {
      "cell_type": "code",
      "source": [
        "member_percentage=data['Is_member'].mean()*100  #count membership percentage\n",
        "print(member_percentage)"
      ],
      "metadata": {
        "colab": {
          "base_uri": "https://localhost:8080/"
        },
        "id": "Lu0T7GFaWcb4",
        "outputId": "c09edba5-9962-4f04-d97e-9b3e2ac00815"
      },
      "execution_count": null,
      "outputs": [
        {
          "output_type": "stream",
          "name": "stdout",
          "text": [
            "63.0\n"
          ]
        }
      ]
    },
    {
      "cell_type": "code",
      "source": [
        "avg_spend_member=data[data['Is_member']==1]['monthly_spend'].mean() #finding the member average spend\n",
        "avg_spend_nonmember=data[data['Is_member']==0]['monthly_spend'].mean() #finding the non-members average spend\n",
        "print(\"Members average spend:\",avg_spend_member)\n",
        "print(\"Non Members average spend:\",avg_spend_nonmember)\n",
        "if(avg_spend_member>avg_spend_nonmember):   #compare which is greater, member or non-member\n",
        "  print(\"Members have a higher average monthly spend than non-members.\")\n",
        "else:\n",
        "  print(\"Non members have a higher average monthly spend than members\")"
      ],
      "metadata": {
        "colab": {
          "base_uri": "https://localhost:8080/"
        },
        "id": "O4o5wNq_WcZT",
        "outputId": "56640a58-37fa-42c8-840d-94b42e34f3c2"
      },
      "execution_count": null,
      "outputs": [
        {
          "output_type": "stream",
          "name": "stdout",
          "text": [
            "Members average spend: 281.667619047619\n",
            "Non Members average spend: 227.37918918918916\n",
            "Members have a higher average monthly spend than non-members.\n"
          ]
        }
      ]
    },
    {
      "cell_type": "code",
      "source": [
        "q4_avg=data[(data['Is_member']==1)&(data['spend_Quartile']=='Q4')]['monthly_spend'].mean()\n",
        "q1_avg=data[(data['Is_member']==1)&(data['spend_Quartile']=='Q1')]['monthly_spend'].mean()\n",
        "print(q4_avg-q1_avg)  #print spending difference between top quartile and bottom quartile members"
      ],
      "metadata": {
        "colab": {
          "base_uri": "https://localhost:8080/"
        },
        "collapsed": true,
        "id": "JIIcvysLWcN8",
        "outputId": "3f3d8c9e-4ded-4d3f-daad-153776808f2f"
      },
      "execution_count": null,
      "outputs": [
        {
          "output_type": "stream",
          "name": "stdout",
          "text": [
            "310.5073949579832\n"
          ]
        }
      ]
    },
    {
      "cell_type": "code",
      "source": [
        "all_members=top_10_members['Is_member'].all()\n",
        "if(all_members):   #cheak high spenders is always member or not\n",
        "  print(\"High spender always members\")\n",
        "else:\n",
        "  print(\"High spenders not always member\")"
      ],
      "metadata": {
        "colab": {
          "base_uri": "https://localhost:8080/"
        },
        "id": "MN5pPwRIsc5F",
        "outputId": "242e33de-a272-466e-ebc0-2687ef732c53"
      },
      "execution_count": null,
      "outputs": [
        {
          "output_type": "stream",
          "name": "stdout",
          "text": [
            "High spender always members\n"
          ]
        }
      ]
    }
  ]
}